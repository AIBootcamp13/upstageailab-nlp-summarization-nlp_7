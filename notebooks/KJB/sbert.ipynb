{
 "cells": [
  {
   "cell_type": "code",
   "execution_count": 1,
   "id": "b9aa30e5",
   "metadata": {},
   "outputs": [
    {
     "name": "stderr",
     "output_type": "stream",
     "text": [
      "/opt/conda/lib/python3.10/site-packages/torchvision/io/image.py:13: UserWarning: Failed to load image Python extension: '/opt/conda/lib/python3.10/site-packages/torchvision/image.so: undefined symbol: _ZN3c1017RegisterOperatorsD1Ev'If you don't plan on using image functionality from `torchvision.io`, you can ignore this warning. Otherwise, there might be something wrong with your environment. Did you have `libjpeg` or `libpng` installed before building `torchvision` from source?\n",
      "  warn(\n"
     ]
    }
   ],
   "source": [
    "import pandas as pd\n",
    "import os\n",
    "import re\n",
    "import json\n",
    "import yaml\n",
    "from glob import glob\n",
    "from tqdm import tqdm\n",
    "from pprint import pprint\n",
    "import torch\n",
    "from rouge import Rouge # 모델의 성능을 평가하기 위한 라이브러리입니다.\n",
    "\n",
    "from torch.utils.data import Dataset , DataLoader\n",
    "from transformers import AutoTokenizer, BartForConditionalGeneration, BartConfig\n",
    "from transformers import Seq2SeqTrainingArguments, Seq2SeqTrainer\n",
    "from transformers import Trainer, TrainingArguments\n",
    "from transformers import EarlyStoppingCallback\n",
    "from sentence_transformers import SentenceTransformer, util\n",
    "\n",
    "import wandb # 모델 학습 과정을 손쉽게 Tracking하고, 시각화할 수 있는 라이브러리입니다."
   ]
  },
  {
   "cell_type": "code",
   "execution_count": 2,
   "id": "3a30392e",
   "metadata": {},
   "outputs": [],
   "source": [
    "model = SentenceTransformer(\"jhgan/ko-sbert-nli\")"
   ]
  },
  {
   "cell_type": "code",
   "execution_count": 3,
   "id": "20963ee5",
   "metadata": {},
   "outputs": [],
   "source": [
    "df = pd.read_csv(\"../../data/train_organized.csv\")"
   ]
  },
  {
   "cell_type": "code",
   "execution_count": 4,
   "id": "9b4135de",
   "metadata": {},
   "outputs": [],
   "source": [
    "import warnings\n",
    "warnings.filterwarnings(\"ignore\", category=FutureWarning)"
   ]
  },
  {
   "cell_type": "code",
   "execution_count": 5,
   "id": "3f8779fd",
   "metadata": {},
   "outputs": [],
   "source": [
    "# ✅ 2. 예시 데이터 구성\n",
    "\n",
    "\n",
    "data = []\n",
    "for fname, dial, summary, topic in zip(df['fname'], df['dialogue'], df['summary'], df['topic']):\n",
    "    x = dial.strip().replace(\"\\n\", \"\")\n",
    "    lines = re.split(r\"(?=#person\\d+#:)\", x, flags=re.IGNORECASE)\n",
    "    if lines and lines[0].strip() == \"\":\n",
    "            lines = lines[1:]\n",
    "\n",
    "    data.append({\n",
    "      \"dialogue\": lines,\n",
    "      \"summary\": summary,\n",
    "      \"topic\": topic,\n",
    "      \"fname\": fname\n",
    "    })\n",
    "\n",
    "# ✅ 3. 유사도 계산 및 랭킹\n",
    "results = []\n",
    "\n",
    "for idx, item in enumerate(data):\n",
    "    dialogue = item[\"dialogue\"]\n",
    "    summary = item[\"summary\"]\n",
    "    topic = item[\"topic\"]\n",
    "    fname = item[\"fname\"]\n",
    "\n",
    "    # 임베딩\n",
    "    sentence_embeddings = model.encode(dialogue, convert_to_tensor=True)\n",
    "    summary_embedding = model.encode(summary, convert_to_tensor=True)\n",
    "\n",
    "    # 코사인 유사도\n",
    "    cosine_scores = util.cos_sim(sentence_embeddings, summary_embedding).squeeze(-1)\n",
    "\n",
    "    # 결과 정리\n",
    "    df = pd.DataFrame({\n",
    "        \"dialogue_id\": idx,\n",
    "        \"summary\": summary,\n",
    "        \"dialogue\": dialogue,\n",
    "        \"cosine_similarity\": cosine_scores.cpu().numpy(),\n",
    "        \"topic\": topic,\n",
    "        \"fname\": fname\n",
    "    })\n",
    "    df[\"rank\"] = df[\"cosine_similarity\"].rank(ascending=False, method=\"first\").astype(int)\n",
    "    results.append(df)\n",
    "\n",
    "# ✅ 4. 최종 통합 결과\n",
    "final_df = pd.concat(results, ignore_index=True)\n",
    "final_df.to_csv(\"sbert_dial_result.csv\", index=False)"
   ]
  },
  {
   "cell_type": "code",
   "execution_count": 13,
   "id": "0b4e7366",
   "metadata": {},
   "outputs": [],
   "source": [
    "def extract_high_similarity_texts(df, data_len, threshold=0.3):\n",
    "    \"\"\"\n",
    "    각 dialogue_id 별로 cosine_similarity가 threshold 이상인 문장만 선택하여\n",
    "    'n'으로 구분된 문자열로 만든 후 리스트로 반환\n",
    "\n",
    "    Parameters:\n",
    "        df (pd.DataFrame): 'dialogue_id', 'cosine_similarity', 'dialogue' 컬럼 포함\n",
    "        data_len (int): 전체 데이터 개수\n",
    "        threshold (float): 유사도 임계값\n",
    "\n",
    "    Returns:\n",
    "        List[str]: 'n'으로 구분된 중요 문장 문자열 리스트\n",
    "    \"\"\"\n",
    "    result = {\n",
    "      \"topic\": [],\n",
    "      \"fname\": [],\n",
    "      \"dialogue\": [],\n",
    "      \"summary\": []\n",
    "    }\n",
    "\n",
    "    for i in range(data_len):\n",
    "        target = df[df[\"dialogue_id\"] == i]\n",
    "        \n",
    "        if len(target) <= 5:\n",
    "          continue\n",
    "        \n",
    "        # 유사도 threshold 이하 문장 제거\n",
    "        filtered = target[target[\"cosine_similarity\"] >= threshold]\n",
    "\n",
    "        filtered = filtered.dropna(subset=[\"dialogue\"])\n",
    "\n",
    "        if len(target) - len(filtered) <= 2:\n",
    "          continue\n",
    "\n",
    "        if len(filtered) == 0:\n",
    "          print(f\"target: {target}\")\n",
    "          continue\n",
    "        \n",
    "        # 남은 문장들을 \"n\"으로 조인\n",
    "        joined_text = \"\\n\".join(filtered[\"dialogue\"].tolist())\n",
    "        # 이제 진짜로 join된 텍스트가 비어있지 않은지 최종 확인\n",
    "        if joined_text.strip() == \"\" or joined_text.strip() == \"nan\":\n",
    "            print(f\"[EMPTY AFTER JOIN] dialogue_id: {i}\")\n",
    "            continue\n",
    "\n",
    "        result[\"topic\"].append(target[\"topic\"].iloc[0])\n",
    "        result[\"fname\"].append(target[\"fname\"].iloc[0])\n",
    "        result[\"dialogue\"].append(joined_text)\n",
    "        result[\"summary\"].append(target[\"summary\"].iloc[0])\n",
    "\n",
    "    return result"
   ]
  },
  {
   "cell_type": "code",
   "execution_count": 14,
   "id": "9aadb84a",
   "metadata": {},
   "outputs": [
    {
     "name": "stdout",
     "output_type": "stream",
     "text": [
      "target:        dialogue_id                              summary  \\\n",
      "56102         5898  피터가 모니카를 쇼에 초대하지만, 모니카는 바빠서 갈 수 없다.   \n",
      "56103         5898  피터가 모니카를 쇼에 초대하지만, 모니카는 바빠서 갈 수 없다.   \n",
      "56104         5898  피터가 모니카를 쇼에 초대하지만, 모니카는 바빠서 갈 수 없다.   \n",
      "56105         5898  피터가 모니카를 쇼에 초대하지만, 모니카는 바빠서 갈 수 없다.   \n",
      "56106         5898  피터가 모니카를 쇼에 초대하지만, 모니카는 바빠서 갈 수 없다.   \n",
      "56107         5898  피터가 모니카를 쇼에 초대하지만, 모니카는 바빠서 갈 수 없다.   \n",
      "56108         5898  피터가 모니카를 쇼에 초대하지만, 모니카는 바빠서 갈 수 없다.   \n",
      "56109         5898  피터가 모니카를 쇼에 초대하지만, 모니카는 바빠서 갈 수 없다.   \n",
      "\n",
      "                                                dialogue  cosine_similarity  \\\n",
      "56102                                #Person1#: 안녕, 모니카.           0.355420   \n",
      "56103                                 #Person2#: 안녕, 피터.           0.275758   \n",
      "56104  #Person1#: 수요일 밤에 뭐 해? 글로벌 시어터에서 멋진 쇼가 있어. 같이 갈래?           0.338077   \n",
      "56105                #Person2#: 수요일 밤? 아, 미안, 작문을 끝내야 해.           0.291577   \n",
      "56106  #Person1#: 아, 그래? 괜찮아. 그럼 목요일은 어때? 우리 저녁 먹으러 나갈까?           0.136912   \n",
      "56107  #Person2#: 그거 좋은 생각인데, 아마 내 룸메이트랑 아파트 청소를 도와줘야...           0.147314   \n",
      "56108                        #Person1#: 그럼 목요일 밤에도 바쁘겠네?           0.253904   \n",
      "56109                           #Person2#: 아쉽지만 그런 것 같아.           0.273582   \n",
      "\n",
      "           topic       fname  rank  \n",
      "56102  초대와 일정 충돌  train_5898     1  \n",
      "56103  초대와 일정 충돌  train_5898     4  \n",
      "56104  초대와 일정 충돌  train_5898     2  \n",
      "56105  초대와 일정 충돌  train_5898     3  \n",
      "56106  초대와 일정 충돌  train_5898     8  \n",
      "56107  초대와 일정 충돌  train_5898     7  \n",
      "56108  초대와 일정 충돌  train_5898     6  \n",
      "56109  초대와 일정 충돌  train_5898     5  \n"
     ]
    }
   ],
   "source": [
    "filtered_datas = extract_high_similarity_texts(final_df, data_len=len(data), threshold=0.36)"
   ]
  },
  {
   "cell_type": "code",
   "execution_count": 15,
   "id": "4b2845e8",
   "metadata": {},
   "outputs": [],
   "source": [
    "filtered_df = pd.DataFrame(filtered_datas)\n",
    "filtered_df.to_csv(\"sbert_filtered_dial.csv\", index=False)"
   ]
  },
  {
   "cell_type": "code",
   "execution_count": 16,
   "id": "4ff146d8",
   "metadata": {},
   "outputs": [
    {
     "data": {
      "text/plain": [
       "3464"
      ]
     },
     "metadata": {},
     "output_type": "display_data"
    }
   ],
   "source": [
    "display(len(filtered_df))"
   ]
  }
 ],
 "metadata": {
  "kernelspec": {
   "display_name": "base",
   "language": "python",
   "name": "python3"
  },
  "language_info": {
   "codemirror_mode": {
    "name": "ipython",
    "version": 3
   },
   "file_extension": ".py",
   "mimetype": "text/x-python",
   "name": "python",
   "nbconvert_exporter": "python",
   "pygments_lexer": "ipython3",
   "version": "3.10.13"
  }
 },
 "nbformat": 4,
 "nbformat_minor": 5
}
